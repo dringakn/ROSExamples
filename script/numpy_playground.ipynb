{
 "cells": [
  {
   "cell_type": "code",
   "execution_count": null,
   "metadata": {},
   "outputs": [],
   "source": [
    "import numpy as np\n",
    "from PIL import Image\n",
    "import matplotlib.pyplot as plt # Collect coords into list\n",
    "import elevation as dem\n",
    "import os"
   ]
  },
  {
   "cell_type": "code",
   "execution_count": null,
   "metadata": {},
   "outputs": [],
   "source": [
    "roi = (51.8903, 10.41933) # Rammelsberg Coordinates (Lat, Lng)\n",
    "offset = 0.01\n",
    "bbx = (roi[1]-offset, roi[0]-offset, roi[1]+offset, roi[0]+offset)\n",
    "fname = f\"{os.getcwd()}/ROI-DEM.tif\" \n",
    "dem.clip(bounds=(bbx[0], bbx[1], bbx[2], bbx[3]), output=fname, product='SRTM1');\n",
    "dem_data = rio.open(fname)\n",
    "img = np.array(Image.open(fname))\n",
    "print(type(img))\n",
    "print(img.dtype)\n",
    "print(img.shape)\n",
    "print(img)"
   ]
  },
  {
   "cell_type": "code",
   "execution_count": null,
   "metadata": {},
   "outputs": [],
   "source": [
    "import rasterio as rio\n",
    "from rasterio.warp import Resampling\n",
    "upscale_factor = 1\n",
    "dem_data = rio.open(fname)\n",
    "dem_array = dem_data.read(1,\n",
    "                            out_shape=(int(dem_data.height * upscale_factor),\n",
    "                                        int(dem_data.width * upscale_factor)),\n",
    "                            out_dtype=np.double,\n",
    "                            resampling=Resampling.bilinear\n",
    "                            )\n",
    "\n",
    "# DEM image transform\n",
    "print(dem_data.transform)\n",
    "dem_transform = dem_data.transform * dem_data.transform.scale(\n",
    "    (dem_data.width / dem_array.shape[-1]),\n",
    "    (dem_data.height / dem_array.shape[-2])\n",
    ")\n",
    "print(bbx)\n",
    "print(dem_transform[0])\n"
   ]
  },
  {
   "cell_type": "code",
   "execution_count": 1,
   "metadata": {},
   "outputs": [
    {
     "name": "stdout",
     "output_type": "stream",
     "text": [
      "Affine transformation matrix:\n",
      " [[-1.66666667  1.33333333]\n",
      " [-2.          1.        ]]\n",
      "Affine transformation translation vector:\n",
      " [0.33333333 3.        ]\n",
      "TESTING:\n",
      "[1 1]  mapped to:  [-2.22044605e-16  2.00000000e+00]  ; expected:  [0 2] [OK]\n",
      "[2 3]  mapped to:  [1. 2.]  ; expected:  [1 2] [OK]\n",
      "[3 2]  mapped to:  [-2. -1.]  ; expected:  [-2 -1] [OK]\n"
     ]
    }
   ],
   "source": [
    "import numpy as np\n",
    "# input data\n",
    "ins = [[1, 1], [2, 3], [3, 2]]  # <- points\n",
    "out = [[0, 2], [1, 2], [-2, -1]]  # <- mapped to\n",
    "# calculations\n",
    "l = len(ins)\n",
    "B = np.vstack([np.transpose(ins), np.ones(l)])\n",
    "D = 1.0 / np.linalg.det(B)\n",
    "\n",
    "\n",
    "def entry(r, d): return np.linalg.det(\n",
    "    np.delete(np.vstack([r, B]), (d+1), axis=0))\n",
    "\n",
    "\n",
    "M = [[(-1)**i * D * entry(R, i) for i in range(l)] for R in np.transpose(out)]\n",
    "A, t = np.hsplit(np.array(M), [l-1])\n",
    "t = np.transpose(t)[0]\n",
    "# output\n",
    "print(\"Affine transformation matrix:\\n\", A)\n",
    "print(\"Affine transformation translation vector:\\n\", t)\n",
    "# unittests\n",
    "print(\"TESTING:\")\n",
    "for p, P in zip(np.array(ins), np.array(out)):\n",
    "    image_p = np.dot(A, p) + t\n",
    "    result = \"[OK]\" if np.allclose(image_p, P) else \"[ERROR]\"\n",
    "    print(p, \" mapped to: \", image_p, \" ; expected: \", P, result)\n"
   ]
  },
  {
   "cell_type": "code",
   "execution_count": 12,
   "metadata": {},
   "outputs": [
    {
     "data": {
      "text/plain": [
       "array([ 1.72474487, -0.15891862,  0.        ])"
      ]
     },
     "execution_count": 12,
     "metadata": {},
     "output_type": "execute_result"
    }
   ],
   "source": [
    "from scipy.spatial.transform import Rotation as R\n",
    "import numpy as np\n",
    "intrinsic = {'X', 'Y', 'Z'} # rotations in a body centred frame of reference , which is attached to, and moves with, the object under rotation\n",
    "extrinsic = {'x', 'y', 'z'} # rotations in a global frame of reference\n",
    "# r = R.from_quat([0, 0, np.sin(np.pi/4), np.cos(np.pi/4)])\n",
    "r = R.from_euler('xyz', [90, 45, 30], degrees=True)\n",
    "# r.as_euler('zyx', degrees=True)\n",
    "# r.as_quat()\n",
    "r.apply([1,1,1])"
   ]
  },
  {
   "cell_type": "code",
   "execution_count": null,
   "metadata": {},
   "outputs": [],
   "source": []
  },
  {
   "cell_type": "code",
   "execution_count": null,
   "metadata": {},
   "outputs": [],
   "source": []
  }
 ],
 "metadata": {
  "kernelspec": {
   "display_name": "debug",
   "language": "python",
   "name": "python3"
  },
  "language_info": {
   "codemirror_mode": {
    "name": "ipython",
    "version": 3
   },
   "file_extension": ".py",
   "mimetype": "text/x-python",
   "name": "python",
   "nbconvert_exporter": "python",
   "pygments_lexer": "ipython3",
   "version": "3.8.10"
  },
  "orig_nbformat": 4,
  "vscode": {
   "interpreter": {
    "hash": "792ff22b7925acf9bd1eb36c4f6e0e6880bfc2322e68916d919bc294fea4344e"
   }
  }
 },
 "nbformat": 4,
 "nbformat_minor": 2
}
