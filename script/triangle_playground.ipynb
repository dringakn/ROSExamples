{
 "cells": [
  {
   "cell_type": "code",
   "execution_count": 1,
   "metadata": {},
   "outputs": [],
   "source": [
    "\"\"\"\n",
    "    Triangle is a python wrapper around Jonathan Richard Shewchuk’s quality mesh generator and delaunay triangulator library.\n",
    "\"\"\"\n",
    "import triangle as tri\n",
    "import matplotlib.pyplot as plt\n",
    "\n",
    "import geopandas as gpd\n",
    "import pandas as pd\n",
    "import numpy as np\n"
   ]
  },
  {
   "cell_type": "code",
   "execution_count": 2,
   "metadata": {},
   "outputs": [],
   "source": [
    "pts = [\n",
    "    [1, 1, 1],\n",
    "    [2, 1, 1],\n",
    "    [2, 2, 1],\n",
    "    [1, 2, 1],\n",
    "    [1, 1, 2],\n",
    "    [2, 1, 2],\n",
    "    [2, 2, 2],\n",
    "    [1, 2, 2],\n",
    "]"
   ]
  },
  {
   "cell_type": "code",
   "execution_count": 8,
   "metadata": {},
   "outputs": [
    {
     "name": "stdout",
     "output_type": "stream",
     "text": [
      "\u001b[0;31mSignature:\u001b[0m \u001b[0mtri\u001b[0m\u001b[0;34m.\u001b[0m\u001b[0mtriangulate\u001b[0m\u001b[0;34m(\u001b[0m\u001b[0mtri\u001b[0m\u001b[0;34m,\u001b[0m \u001b[0mopts\u001b[0m\u001b[0;34m=\u001b[0m\u001b[0;34m''\u001b[0m\u001b[0;34m)\u001b[0m\u001b[0;34m\u001b[0m\u001b[0;34m\u001b[0m\u001b[0m\n",
      "\u001b[0;31mDocstring:\u001b[0m\n",
      "Perform triangulation on the input data `tri`. `tri` must be a dictionary\n",
      "that contains the following keys:\n",
      "\n",
      "* `vertices` - 2-D array that stores the xy position of each vertex\n",
      "* `segments` - optional 2-D array that stores segments. Segments are edges whose presence in the triangulation is enforced (although each segment may be subdivided into smaller edges). Each segment is specified by listing the indices of its two endpoints.\n",
      "* `holes` - optional 2-D array that stores holes. Holes are specified by identifying a point inside each hole. After the triangulation is formed, Triangle creates holes by eating triangles, spreading out from each hole point until its progress is blocked by PSLG segments; you must be careful to enclose each hole in segments, or your whole triangulation might be eaten away. If the two triangles abutting a segment are eaten, the segment itself is also eaten. Do not place a hole directly on a segment; if you do, Triangle will choose one side of the segment arbitrarily.\n",
      "* `regions` - optional 2-D array that stores region attributes and areas.\n",
      "\n",
      "The second (optional) arguments lists the options that should be passed to triangle:\n",
      "\n",
      "* `p` - Triangulates a Planar Straight Line Graph.\n",
      "* `r` - Refines a previously generated mesh.\n",
      "* `q` - Quality mesh generation with no angles smaller than 20 degrees. An alternate minimum angle may be specified after the `q`.\n",
      "* `a` - Imposes a maximum triangle area constraint. A fixed area constraint (that applies to every triangle) may be specified after the `a`, or varying areas may be read from the input dictionary.\n",
      "* `c` - Encloses the convex hull with segments.\n",
      "* `D` - Conforming Delaunay: use this switch if you want all triangles in the mesh to be Delaunay, and not just constrained Delaunay; or if you want to ensure that all Voronoi vertices lie within the triangulation.\n",
      "* `X` - Suppresses exact arithmetic.\n",
      "* `S` - Specifies the maximum number of added Steiner points.\n",
      "* `i` - Uses the incremental algorithm for Delaunay triangulation, rather than the divide-and-conquer algorithm.\n",
      "* `F` - Uses Steven Fortune's sweepline algorithm for Delaunay triangulation, rather than the divide-and-conquer algorithm.\n",
      "* `l` - Uses only vertical cuts in the divide-and-conquer algorithm. By default, Triangle uses alternating vertical and horizontal cuts, which usually improve the speed except with vertex sets that are small or short and wide. This switch is primarily of theoretical interest.\n",
      "* `s` - Specifies that segments should be forced into the triangulation by recursively splitting them at their midpoints, rather than by generating a constrained Delaunay triangulation. Segment splitting is true to Ruppert's original algorithm, but can create needlessly small triangles. This switch is primarily of theoretical interest.\n",
      "* `C` - Check the consistency of the final mesh. Uses exact arithmetic for checking, even if the -X switch is used. Useful if you suspect Triangle is buggy.\n",
      "* `n` - Return neighbor list in dict key 'neighbors'\n",
      "* `e` - Return edge list in dict key 'edges'\n",
      "\n",
      ">>> v = [[0, 0], [0, 1], [1, 1], [1, 0]]\n",
      ">>> t = triangulate({'vertices': v}, 'a0.2')\n",
      ">>> t['vertices'].tolist()\n",
      "[[0.0, 0.0], [0.0, 1.0], [1.0, 1.0], [1.0, 0.0], [0.5, 0.5], [0.0, 0.5], [0.5, 0.0], [1.0, 0.5], [0.5, 1.0]]\n",
      ">>> t['vertex_markers'].tolist()\n",
      "[[1], [1], [1], [1], [0], [1], [1], [1], [1]]\n",
      ">>> t['triangles'].tolist()\n",
      "[[7, 2, 4], [5, 0, 4], [4, 8, 1], [4, 1, 5], [4, 0, 6], [6, 3, 4], [4, 3, 7], [4, 2, 8]]\n",
      "\n",
      ".. plot:: plot/api_triangulate.py\n",
      "\u001b[0;31mFile:\u001b[0m      ~/.local/lib/python3.8/site-packages/triangle/tri.py\n",
      "\u001b[0;31mType:\u001b[0m      function\n"
     ]
    }
   ],
   "source": [
    "# tri.delaunay(np.array(pts))\n",
    "tri.triangulate?"
   ]
  }
 ],
 "metadata": {
  "kernelspec": {
   "display_name": "Python 3.8.10 64-bit",
   "language": "python",
   "name": "python3"
  },
  "language_info": {
   "codemirror_mode": {
    "name": "ipython",
    "version": 3
   },
   "file_extension": ".py",
   "mimetype": "text/x-python",
   "name": "python",
   "nbconvert_exporter": "python",
   "pygments_lexer": "ipython3",
   "version": "3.8.10"
  },
  "orig_nbformat": 4,
  "vscode": {
   "interpreter": {
    "hash": "31f2aee4e71d21fbe5cf8b01ff0e069b9275f58929596ceb00d14d90e3e16cd6"
   }
  }
 },
 "nbformat": 4,
 "nbformat_minor": 2
}
