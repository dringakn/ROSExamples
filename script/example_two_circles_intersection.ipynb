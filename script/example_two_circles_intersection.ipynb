{
 "cells": [
  {
   "cell_type": "code",
   "execution_count": 1,
   "metadata": {},
   "outputs": [],
   "source": [
    "import math\n",
    "import numpy as np\n",
    "import scipy.optimize as optimize\n",
    "import matplotlib.pyplot as plt"
   ]
  },
  {
   "cell_type": "code",
   "execution_count": 2,
   "metadata": {},
   "outputs": [],
   "source": [
    "EPS = 0.0000000001\n",
    "\n",
    "\n",
    "def map(x, in_min, in_max, out_min, out_max):\n",
    "    return (x - in_min) * (out_max - out_min) / (in_max - in_min) + out_min\n",
    "\n",
    "\n",
    "def nearly_equal(x, y):\n",
    "    return abs(x-y) <= EPS\n",
    "\n",
    "\n",
    "def distance(pt1, pt2):\n",
    "    \"\"\" Return the distance between two 2D points\n",
    "\n",
    "    Args:\n",
    "        pt1 (x,y): First 2D point\n",
    "        pt2 (x,y): Second 2D point\n",
    "\n",
    "    Returns:\n",
    "        real number: Euclidean distance between the two points.\n",
    "    \"\"\"\n",
    "    dx = pt1[0] - pt2[0]\n",
    "    dy = pt1[1] - pt2[1]\n",
    "\n",
    "    return math.sqrt(dx*dx + dy*dy)\n",
    "\n",
    "\n",
    "def two_circles_offset_given_percent_area_overlap(c, percent_overlap=1.0):\n",
    "    \"\"\" Offset between two equal radius circles for specified overlap area\n",
    "        https://mathworld.wolfram.com/Circle-CircleIntersection.html\n",
    "        The overlap area is between 0 and area of the circle.\n",
    "        Let d be the Euclidean distance between the center of the two circles.\n",
    "\n",
    "    Args:\n",
    "        c (x,y,r): circle parameters\n",
    "        percent_overlap: percent overlap [0-1]\n",
    "\n",
    "    Returns:\n",
    "        real number: distance between the center of two circles.\n",
    "    \"\"\"\n",
    "    r = c[2]\n",
    "    r2 = r * r\n",
    "\n",
    "    if percent_overlap < 0:\n",
    "        percent_overlap = 0\n",
    "    elif percent_overlap > 1:\n",
    "        percent_overlap = 1\n",
    "\n",
    "    intersection_area = percent_overlap * math.pi * r2\n",
    "\n",
    "    # Initial guess (theta, distance)\n",
    "    theta = map(percent_overlap, 0, 1, 0, math.pi)\n",
    "    guess = (theta, 2.0 * r * math.cos(0.5 * theta))\n",
    "\n",
    "    def func(x): return (intersection_area - r2 * (x[0] - math.sin(x[0])),\n",
    "                         x[1] - 2.0 * r * math.cos(0.5 * x[0]))\n",
    "\n",
    "    return optimize.fsolve(func, x0=guess)[1]  # return distance\n",
    "\n",
    "\n",
    "def two_circles_intersection_area(c1, c2):\n",
    "    \"\"\" Intersection area between two circles\n",
    "        https://mathworld.wolfram.com/Circle-CircleIntersection.html\n",
    "\n",
    "    Args:\n",
    "        c1 (x,y,r): First circle parameters\n",
    "        c2 (x,y,r): Second circle parameters\n",
    "\n",
    "    Returns:\n",
    "        real number: Intersection area between two circles.\n",
    "    \"\"\"\n",
    "    intersection_area = 0\n",
    "    d = distance(c1, c2)\n",
    "    r1 = c1[2]\n",
    "    r2 = c2[2]\n",
    "\n",
    "    if (d > (r1 + r2)):  # Trival case, the circles have no intersection\n",
    "        intersection_area = 0\n",
    "\n",
    "    # Trival case, the two circles are touching each other outside (one intersection point)\n",
    "    elif nearly_equal(d, (r1 + r2)):\n",
    "        intersection_area = 0\n",
    "\n",
    "    elif nearly_equal(d, 0):  # Trival case, overlapping circles\n",
    "        r = min(r1, r2)  # circle with largest radius\n",
    "        intersection_area = math.pi * r * r\n",
    "\n",
    "    elif (d <= abs(r1 - r2)):  # One circle is contained within other, also one intersection point inside\n",
    "        r = min(r1, r2)  # circle with largest radius\n",
    "        intersection_area = math.pi * r * r\n",
    "\n",
    "    else:  # The circle must have two intersection points, assuming both have same radius\n",
    "        # print('Default case')\n",
    "        intersection_area = (r1*r1 * math.acos((d*d + r1*r1 - r2*r2)/(2*d*r1))) + (r2*r2 * math.acos(\n",
    "            (d*d + r2*r2 - r1*r1)/(2*d*r2))) - (0.5 * math.sqrt((d+r1+r2)*(d-r1+r2)*(d+r1-r2)*(-d+r1+r2)))\n",
    "\n",
    "    return intersection_area\n",
    "\n",
    "\n",
    "def plot_circle(c, color='r', alpha=1.0):\n",
    "    c1 = plt.Circle((c[0], c[1]), c[2], color=color, alpha=alpha)\n",
    "    ax = plt.gca()\n",
    "    ax.add_patch(c1)\n",
    "    plt.autoscale(True, 'both', True)\n",
    "    plt.axis('equal')\n",
    "    plt.grid('both')\n"
   ]
  },
  {
   "cell_type": "code",
   "execution_count": 5,
   "metadata": {},
   "outputs": [
    {
     "name": "stdout",
     "output_type": "stream",
     "text": [
      "1.112879141134789\n"
     ]
    },
    {
     "data": {
      "image/png": "[encoded data removed]",
      "text/plain": [
       "<Figure size 432x288 with 1 Axes>"
      ]
     },
     "metadata": {
      "needs_background": "light"
     },
     "output_type": "display_data"
    }
   ],
   "source": [
    "c1 = (0, 0, 1) # x, y, radius\n",
    "c2 = (1.11287, 0, 1) # x, y, radius\n",
    "c3 = (2*1.11287, 0, 1) # x, y, radius\n",
    "\n",
    "plot_circle(c1, 'red', 0.25)\n",
    "plot_circle(c2, 'green', 0.25)\n",
    "plot_circle(c3, 'blue', 0.25)\n",
    "plt.title(f\"Intersection Area: {two_circles_intersection_area(c1, c2):0.3f}\");\n",
    "print(two_circles_offset_given_percent_area_overlap(c1, 0.33))"
   ]
  },
  {
   "cell_type": "code",
   "execution_count": 13,
   "metadata": {},
   "outputs": [
    {
     "data": {
      "text/latex": [
       "$\\displaystyle \\left[\\begin{matrix}2.30988146001006\\\\0.807945506599034\\end{matrix}\\right]$"
      ],
      "text/plain": [
       "Matrix([\n",
       "[ 2.30988146001006],\n",
       "[0.807945506599034]])"
      ]
     },
     "execution_count": 13,
     "metadata": {},
     "output_type": "execute_result"
    }
   ],
   "source": [
    "import sympy\n",
    "\n",
    "# Parameters\n",
    "pct_overlap = 0.5 # Required overlap\n",
    "r = 1 # Circle radius\n",
    "\n",
    "# Intermediate variables\n",
    "r2 = r * r;\n",
    "iarea = pct_overlap * math.pi * r2\n",
    "\n",
    "# Solve numerically\n",
    "d, theta = sympy.symbols('d, theta')\n",
    "sympy.nsolve([iarea - r2*(theta-sympy.sin(theta)), \n",
    "              d-2*r*sympy.cos(theta/2)], \n",
    "             [theta, d], \n",
    "             [1, 1])\n"
   ]
  },
  {
   "cell_type": "code",
   "execution_count": 14,
   "metadata": {},
   "outputs": [
    {
     "data": {
      "text/plain": [
       "-0.9899924966004454"
      ]
     },
     "execution_count": 14,
     "metadata": {},
     "output_type": "execute_result"
    }
   ],
   "source": [
    "np.cos(3)"
   ]
  }
 ],
 "metadata": {
  "kernelspec": {
   "display_name": "Python 3.8.10 64-bit",
   "language": "python",
   "name": "python3"
  },
  "language_info": {
   "codemirror_mode": {
    "name": "ipython",
    "version": 3
   },
   "file_extension": ".py",
   "mimetype": "text/x-python",
   "name": "python",
   "nbconvert_exporter": "python",
   "pygments_lexer": "ipython3",
   "version": "3.8.10"
  },
  "orig_nbformat": 4,
  "vscode": {
   "interpreter": {
    "hash": "31f2aee4e71d21fbe5cf8b01ff0e069b9275f58929596ceb00d14d90e3e16cd6"
   }
  }
 },
 "nbformat": 4,
 "nbformat_minor": 2
}
