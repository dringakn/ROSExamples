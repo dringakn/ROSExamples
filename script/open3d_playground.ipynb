{
 "cells": [
  {
   "cell_type": "code",
   "execution_count": 2,
   "metadata": {},
   "outputs": [
    {
     "name": "stdout",
     "output_type": "stream",
     "text": [
      "Jupyter environment detected. Enabling Open3D WebVisualizer.\n",
      "[Open3D INFO] WebRTC GUI backend enabled.\n",
      "[Open3D INFO] WebRTCWindowSystem: HTTP handshake server disabled.\n"
     ]
    }
   ],
   "source": [
    "# conda debug enviornment is created to install latest open3d (0.16.0) with python 3.9\n",
    "\n",
    "import osmnx as ox\n",
    "import shapely.geometry.polygon\n",
    "import geopandas as gpd\n",
    "import elevation as dem\n",
    "import rasterio as rio\n",
    "from rasterio.warp import Resampling\n",
    "from rasterio.plot import show\n",
    "import richdem as rd\n",
    "import utm\n",
    "import open3d as o3d\n",
    "import pandas as pd\n",
    "import numpy as np\n",
    "import matplotlib.pyplot as plt\n",
    "\n",
    "# turn response caching off/on\n",
    "ox.settings.use_cache = True"
   ]
  },
  {
   "cell_type": "code",
   "execution_count": 7,
   "metadata": {},
   "outputs": [],
   "source": [
    "# Load and display a point-cloud from the specified 'pcd' file\n",
    "pcd = o3d.io.read_point_cloud(\"../map/pointcloud.pcd\")\n",
    "\n",
    "pcd.estimate_normals() # Calculate the points normals\n",
    "pcd.orient_normals_to_align_with_direction() # re-orient the normals.\n",
    "\n",
    "o3d.visualization.draw_geometries([pcd])"
   ]
  },
  {
   "cell_type": "code",
   "execution_count": 9,
   "metadata": {},
   "outputs": [],
   "source": [
    "# Process the loaded point-cloud as numpy array \n",
    "pts = np.asarray(pcd.points) # TO Numpy\n",
    "\n",
    "# Project the points-cloud to x-y plane\n",
    "for pt in pts:\n",
    "    pt[2] = 0\n",
    "\n",
    "# Recreate a points-cloud from the numpy points\n",
    "pcd.points = o3d.utility.Vector3dVector(pts) # From Numpy\n",
    "o3d.visualization.draw_geometries([pcd])\n"
   ]
  },
  {
   "cell_type": "code",
   "execution_count": 14,
   "metadata": {},
   "outputs": [],
   "source": [
    "\n",
    "# Load the points-cloud as numpy array\n",
    "pts = np.asarray(pcd.points)  # TO Numpy\n",
    "\n",
    "minxyz = pts.min(axis=0).astype(np.int16) # [-345 -166    0]: minimum along each direction (x, y, z)\n",
    "maxxyz = pts.max(axis=0).astype(np.int16) # [ 74 255   0]: maximum along each direction\n",
    "\n",
    "# Count number of points inside 2d gridcells\n",
    "# H, edges = np.histogramdd(pts, bins = (100, 100, 100))\n",
    "H, xedges, yedges = np.histogram2d(x=pts[:, 0],  y=pts[:, 1], \n",
    "                         bins=[\n",
    "                             np.arange(minxyz[0], maxxyz[0], 0.25), \n",
    "                             np.arange(minxyz[1], maxxyz[1], 0.25)\n",
    "                             ], \n",
    "                         range=[\n",
    "                             [minxyz[0], maxxyz[0]], \n",
    "                             [minxyz[1], maxxyz[1]]\n",
    "                             ]\n",
    "                         )\n",
    "\n",
    "# Display as Pointcloud\n",
    "# pcd1 = o3d.geometry.PointCloud()\n",
    "# pcd1.points = o3d.utility.Vector3dVector(np.vstack(H))\n",
    "# o3d.visualization.draw_geometries([pcd1])\n",
    "\n",
    "# Export as Image\n",
    "img = o3d.geometry.Image((H*10).astype(np.uint8))\n",
    "o3d.io.write_image(\"../map/pointcloud.png\", img)\n",
    "o3d.visualization.draw_geometries([img])"
   ]
  },
  {
   "cell_type": "code",
   "execution_count": 16,
   "metadata": {},
   "outputs": [
    {
     "name": "stdout",
     "output_type": "stream",
     "text": [
      "We draw a few primitives using collection.\n"
     ]
    }
   ],
   "source": [
    "# Create and display basic geometric shapes\n",
    "mesh_box = o3d.geometry.TriangleMesh.create_box(width=1.0,\n",
    "                                                height=1.0,\n",
    "                                                depth=1.0)\n",
    "mesh_box.compute_vertex_normals()\n",
    "mesh_box.paint_uniform_color([0.9, 0.1, 0.1])\n",
    "mesh_sphere = o3d.geometry.TriangleMesh.create_sphere(radius=1.0)\n",
    "mesh_sphere.compute_vertex_normals()\n",
    "mesh_sphere.paint_uniform_color([0.1, 0.1, 0.7])\n",
    "mesh_cylinder = o3d.geometry.TriangleMesh.create_cylinder(radius=0.3,\n",
    "                                                            height=4.0)\n",
    "mesh_cylinder.compute_vertex_normals()\n",
    "mesh_cylinder.paint_uniform_color([0.1, 0.9, 0.1])\n",
    "mesh_frame = o3d.geometry.TriangleMesh.create_coordinate_frame(\n",
    "    size=0.6, origin=[-2, -2, -2])\n",
    "\n",
    "# We can draw a few primitives using collection.\n",
    "o3d.visualization.draw_geometries([mesh_box, mesh_sphere, mesh_cylinder, mesh_frame])\n",
    "# We can also draw a few primitives using + operator of mesh.\n",
    "# o3d.visualization.draw_geometries([mesh_box + mesh_sphere + mesh_cylinder + mesh_frame])\n"
   ]
  },
  {
   "cell_type": "code",
   "execution_count": 18,
   "metadata": {},
   "outputs": [],
   "source": [
    "# Draw a cube using o3d.geometry.LineSet.\n",
    "\n",
    "# Input vertices\n",
    "points = [\n",
    "    [0, 0, 0],\n",
    "    [1, 0, 0],\n",
    "    [0, 1, 0],\n",
    "    [1, 1, 0],\n",
    "    [0, 0, 1],\n",
    "    [1, 0, 1],\n",
    "    [0, 1, 1],\n",
    "    [1, 1, 1],\n",
    "]\n",
    "\n",
    "# Lines are shown by connecting vertices\n",
    "lines = [\n",
    "    [0, 1],\n",
    "    [0, 2],\n",
    "    [1, 3],\n",
    "    [2, 3],\n",
    "    [4, 5],\n",
    "    [4, 6],\n",
    "    [5, 7],\n",
    "    [6, 7],\n",
    "    [0, 4],\n",
    "    [1, 5],\n",
    "    [2, 6],\n",
    "    [3, 7],\n",
    "]\n",
    "# Create Lineset\n",
    "line_set = o3d.geometry.LineSet(\n",
    "    points=o3d.utility.Vector3dVector(points),\n",
    "    lines=o3d.utility.Vector2iVector(lines),\n",
    ")\n",
    "# Color of each line\n",
    "colors = [[1, 0, 0] for i in range(len(lines))]\n",
    "line_set.colors = o3d.utility.Vector3dVector(colors)\n",
    "o3d.visualization.draw_geometries([line_set])"
   ]
  },
  {
   "cell_type": "code",
   "execution_count": 20,
   "metadata": {},
   "outputs": [
    {
     "name": "stdout",
     "output_type": "stream",
     "text": [
      "[9.0 inf]\n",
      "Tensor[shape={2}, stride={1}, Float32, CPU:0, 0x5d2de80]\n",
      "[0 4294967295]\n",
      "Tensor[shape={2}, stride={1}, UInt32, CPU:0, 0x59f2d30]\n",
      "[[-0.0 0.5],\n",
      " [0.0 0.0]]\n",
      "Tensor[shape={2, 2}, stride={2, 1}, Float32, CPU:0, 0x404f840]\n",
      "[8.999999      inf] \n",
      " [[-0.          0.49999997]\n",
      " [ 0.          0.        ]]\n"
     ]
    }
   ],
   "source": [
    "# Collision Checking\n",
    "\n",
    "# Load mesh and convert to open3d.t.geometry.TriangleMesh\n",
    "cube = o3d.geometry.TriangleMesh.create_box().translate([0, 0, 0])\n",
    "cube = o3d.t.geometry.TriangleMesh.from_legacy(cube)\n",
    "\n",
    "# Create a scene and add the triangle mesh\n",
    "scene = o3d.t.geometry.RaycastingScene()\n",
    "cube_id = scene.add_triangles(cube)\n",
    "rays = o3d.core.Tensor([[0.5, 0.5, 10, 0, 0, -1], [-1, -1, -1, 0, 0, -1]], dtype=o3d.core.Dtype.Float32)\n",
    "ans = scene.cast_rays(rays)\n",
    "\n",
    "print(ans['t_hit'])\n",
    "print(ans['geometry_ids'])\n",
    "print(ans['primitive_uvs'])\n",
    "print(ans['t_hit'].numpy(), \"\\n\", ans['primitive_uvs'].numpy())"
   ]
  },
  {
   "cell_type": "code",
   "execution_count": 8,
   "metadata": {},
   "outputs": [
    {
     "data": {
      "text/plain": [
       "<matplotlib.image.AxesImage at 0x7f9cb3cdf130>"
      ]
     },
     "execution_count": 8,
     "metadata": {},
     "output_type": "execute_result"
    },
    {
     "data": {
      "image/png": "[encoded data removed]",
      "text/plain": [
       "<Figure size 640x480 with 1 Axes>"
      ]
     },
     "metadata": {},
     "output_type": "display_data"
    }
   ],
   "source": [
    "# Create meshes and convert to open3d.t.geometry.TriangleMesh\n",
    "cube = o3d.geometry.TriangleMesh.create_box().translate([0, 0, 0])\n",
    "cube = o3d.t.geometry.TriangleMesh.from_legacy(cube)\n",
    "torus = o3d.geometry.TriangleMesh.create_torus().translate([0, 0, 2])\n",
    "torus = o3d.t.geometry.TriangleMesh.from_legacy(torus)\n",
    "sphere = o3d.geometry.TriangleMesh.create_sphere(radius=0.5).translate([1, 2, 3])\n",
    "sphere = o3d.t.geometry.TriangleMesh.from_legacy(sphere)\n",
    "\n",
    "\n",
    "scene = o3d.t.geometry.RaycastingScene()\n",
    "scene.add_triangles(cube)\n",
    "scene.add_triangles(torus)\n",
    "_ = scene.add_triangles(sphere)\n",
    "\n",
    "rays = o3d.t.geometry.RaycastingScene.create_rays_pinhole(\n",
    "    fov_deg=90,\n",
    "    center=[0, 0, 2],\n",
    "    eye=[2, 3, 0],\n",
    "    up=[0, 1, 0],\n",
    "    width_px=640,\n",
    "    height_px=480,\n",
    ")\n",
    "# We can directly pass the rays tensor to the cast_rays function.\n",
    "ans = scene.cast_rays(rays)\n",
    "plt.imshow(ans['t_hit'].numpy())\n",
    "plt.imshow(np.abs(ans['primitive_normals'].numpy()))\n",
    "plt.imshow(ans['geometry_ids'].numpy(), vmax=3)"
   ]
  },
  {
   "cell_type": "code",
   "execution_count": 9,
   "metadata": {},
   "outputs": [],
   "source": [
    "hit = ans['t_hit'].isfinite()\n",
    "points = rays[hit][:,:3] + rays[hit][:,3:]*ans['t_hit'][hit].reshape((-1,1))\n",
    "pcd = o3d.t.geometry.PointCloud(points)\n",
    "# Press Ctrl/Cmd-C in the visualization window to copy the current viewpoint\n",
    "o3d.visualization.draw_geometries([pcd.to_legacy()],\n",
    "                                  front=[0.5, 0.86, 0.125],\n",
    "                                  lookat=[0.23, 0.5, 2],\n",
    "                                  up=[-0.63, 0.45, -0.63],\n",
    "                                  zoom=0.7)\n",
    "# o3d.visualization.draw([pcd]) # new API"
   ]
  },
  {
   "cell_type": "code",
   "execution_count": 10,
   "metadata": {},
   "outputs": [],
   "source": [
    "# Load mesh and convert to open3d.t.geometry.TriangleMesh\n",
    "armadillo_data = o3d.data.ArmadilloMesh()\n",
    "mesh = o3d.io.read_triangle_mesh(armadillo_data.path)\n",
    "o3d.visualization.draw_geometries([mesh])\n",
    "mesh = o3d.t.geometry.TriangleMesh.from_legacy(mesh)\n",
    "\n",
    "# Create a scene and add the triangle mesh\n",
    "scene = o3d.t.geometry.RaycastingScene()\n",
    "_ = scene.add_triangles(mesh)  # we do not need the geometry ID for mesh"
   ]
  },
  {
   "cell_type": "code",
   "execution_count": 11,
   "metadata": {},
   "outputs": [
    {
     "name": "stdout",
     "output_type": "stream",
     "text": [
      "unsigned distance [7.8694816]\n",
      "signed_distance [-7.8694816]\n",
      "occupancy [1.]\n"
     ]
    }
   ],
   "source": [
    "query_point = o3d.core.Tensor([[10, 10, 10]], dtype=o3d.core.Dtype.Float32)\n",
    "\n",
    "# Compute distance of the query point from the surface\n",
    "unsigned_distance = scene.compute_distance(query_point)\n",
    "signed_distance = scene.compute_signed_distance(query_point)\n",
    "occupancy = scene.compute_occupancy(query_point)\n",
    "print(\"unsigned distance\", unsigned_distance.numpy())\n",
    "print(\"signed_distance\", signed_distance.numpy())\n",
    "print(\"occupancy\", occupancy.numpy())"
   ]
  },
  {
   "cell_type": "code",
   "execution_count": 12,
   "metadata": {},
   "outputs": [
    {
     "data": {
      "text/plain": [
       "<matplotlib.image.AxesImage at 0x7f9cb3cd3cd0>"
      ]
     },
     "execution_count": 12,
     "metadata": {},
     "output_type": "execute_result"
    },
    {
     "data": {
      "image/png": "[encoded data removed]",
      "text/plain": [
       "<Figure size 640x480 with 1 Axes>"
      ]
     },
     "metadata": {},
     "output_type": "display_data"
    }
   ],
   "source": [
    "min_bound = mesh.vertex.positions.min(0).numpy()\n",
    "max_bound = mesh.vertex.positions.max(0).numpy()\n",
    "\n",
    "N = 256\n",
    "query_points = np.random.uniform(low=min_bound, high=max_bound,\n",
    "                                 size=[N, 3]).astype(np.float32)\n",
    "\n",
    "# Compute the signed distance for N random points\n",
    "signed_distance = scene.compute_signed_distance(query_points)\n",
    "\n",
    "xyz_range = np.linspace(min_bound, max_bound, num=32)\n",
    "\n",
    "# query_points is a [32,32,32,3] array ..\n",
    "query_points = np.stack(np.meshgrid(*xyz_range.T), axis=-1).astype(np.float32)\n",
    "\n",
    "# signed distance is a [32,32,32] array\n",
    "signed_distance = scene.compute_signed_distance(query_points)\n",
    "unsigned_distance = scene.compute_distance(query_points)\n",
    "occupancy = scene.compute_occupancy(query_points)\n",
    "\n",
    "# We can visualize a slice of the distance field directly with matplotlib\n",
    "plt.imshow(occupancy.numpy()[:, :, 15])"
   ]
  },
  {
   "cell_type": "code",
   "execution_count": 13,
   "metadata": {},
   "outputs": [
    {
     "name": "stdout",
     "output_type": "stream",
     "text": [
      "The closest point on the surface is [[-0.2 -0.2  0. ]]\n",
      "The closest point is on the surface of the cube\n",
      "The closest point belongs to triangle 0\n"
     ]
    }
   ],
   "source": [
    "cube = o3d.t.geometry.TriangleMesh.from_legacy(\n",
    "    o3d.geometry.TriangleMesh.create_box().translate([-1.2, -1.2, 0]))\n",
    "sphere = o3d.t.geometry.TriangleMesh.from_legacy(\n",
    "    o3d.geometry.TriangleMesh.create_sphere(0.5).translate([0.7, 0.8, 0]))\n",
    "\n",
    "scene = o3d.t.geometry.RaycastingScene()\n",
    "# Add triangle meshes and remember ids\n",
    "mesh_ids = {}\n",
    "mesh_ids[scene.add_triangles(cube)] = 'cube'\n",
    "mesh_ids[scene.add_triangles(sphere)] = 'sphere'\n",
    "\n",
    "query_point = o3d.core.Tensor([[0, 0, 0]], dtype=o3d.core.Dtype.Float32)\n",
    "\n",
    "# We compute the closest point on the surface for the point at position [0,0,0].\n",
    "ans = scene.compute_closest_points(query_point)\n",
    "\n",
    "# Compute_closest_points provides the point on the surface, the geometry id,\n",
    "# and the primitive id.\n",
    "# The dictionary keys are\n",
    "#.    points\n",
    "#.    geometry_ids\n",
    "#.    primitive_ids\n",
    "print('The closest point on the surface is', ans['points'].numpy())\n",
    "print('The closest point is on the surface of the',\n",
    "      mesh_ids[ans['geometry_ids'][0].item()])\n",
    "print('The closest point belongs to triangle', ans['primitive_ids'][0].item())"
   ]
  },
  {
   "cell_type": "code",
   "execution_count": 14,
   "metadata": {},
   "outputs": [],
   "source": [
    "rays = np.concatenate(\n",
    "    [query_point.numpy(),\n",
    "     np.ones(query_point.shape, dtype=np.float32)],\n",
    "    axis=-1)\n",
    "intersection_counts = scene.count_intersections(rays).numpy()\n",
    "# A point is inside if the number of intersections with the scene is even\n",
    "# This sssumes that inside and outside is we ll defined for the scene.\n",
    "is_inside = intersection_counts % 2 == 1"
   ]
  },
  {
   "cell_type": "code",
   "execution_count": 15,
   "metadata": {},
   "outputs": [],
   "source": [
    "def compute_signed_distance_and_closest_goemetry(query_points: np.ndarray):\n",
    "    closest_points = scene.compute_closest_points(query_points)\n",
    "    distance = np.linalg.norm(query_points - closest_points['points'].numpy(),\n",
    "                              axis=-1)\n",
    "    rays = np.concatenate([query_points, np.ones_like(query_points)], axis=-1)\n",
    "    intersection_counts = scene.count_intersections(rays).numpy()\n",
    "    is_inside = intersection_counts % 2 == 1\n",
    "    distance[is_inside] *= -1\n",
    "    return distance, closest_points['geometry_ids'].numpy()"
   ]
  },
  {
   "cell_type": "code",
   "execution_count": 16,
   "metadata": {},
   "outputs": [
    {
     "data": {
      "text/plain": [
       "<matplotlib.image.AxesImage at 0x7f9cb3c8d640>"
      ]
     },
     "execution_count": 16,
     "metadata": {},
     "output_type": "execute_result"
    },
    {
     "data": {
      "image/png": "[encoded data removed]",
      "text/plain": [
       "<Figure size 640x480 with 2 Axes>"
      ]
     },
     "metadata": {},
     "output_type": "display_data"
    }
   ],
   "source": [
    "# compute range\n",
    "xyz_range = np.linspace([-2, -2, -2], [2, 2, 2], num=32)\n",
    "# query_points is a [32,32,32,3] array ..\n",
    "query_points = np.stack(np.meshgrid(*xyz_range.T), axis=-1).astype(np.float32)\n",
    "\n",
    "sdf, closest_geom = compute_signed_distance_and_closest_goemetry(query_points)\n",
    "\n",
    "# We can visualize a slice of the grids directly with matplotlib\n",
    "fig, axes = plt.subplots(1, 2)\n",
    "axes[0].imshow(sdf[:, :, 16])\n",
    "axes[1].imshow(closest_geom[:, :, 16])"
   ]
  },
  {
   "cell_type": "code",
   "execution_count": 17,
   "metadata": {},
   "outputs": [],
   "source": [
    "# o3d.t.geometry.RaycastingScene.create_rays_pinhole?\n",
    "dataset = o3d.data.PCDPointCloud()\n",
    "# dataset = o3d.data.EaglePointCloud()\n",
    "# dataset = o3d.data.LivingRoomPointClouds()\n",
    "# dataset = o3d.data.OfficePointClouds()\n",
    "# dataset = o3d.data.BunnyMesh()\n",
    "# dataset = o3d.data.ArmadilloMesh()\n",
    "# dataset = o3d.data.KnotMesh()\n",
    "# dataset = o3d.data.MonkeyModel()\n",
    "# dataset = o3d.data.SwordModel()\n",
    "# dataset = o3d.data.CrateModel()\n",
    "# dataset = o3d.data.FlightHelmetModel()\n",
    "# dataset = o3d.data.AvocadoModel()\n",
    "# dataset = o3d.data.DamagedHelmetModel()\n",
    "# img_data = o3d.data.JuneauImage()\n",
    "# dataset = o3d.data.SampleRedwoodRGBDImages()\n",
    "# dataset = o3d.data.SampleFountainRGBDImages()\n",
    "# dataset = o3d.data.SampleSUNRGBDImage()\n",
    "# dataset = o3d.data.SampleTUMRGBDImage()\n",
    "# dataset = o3d.data.LoungeRGBDImages()\n",
    "# dataset = o3d.data.BedroomRGBDImages()\n",
    "# dataset = o3d.data.DemoICPPointClouds()\n",
    "# dataset = o3d.data.DemoColoredICPPointClouds()\n",
    "# dataset = o3d.data.DemoCropPointCloud()\n",
    "# dataset = o3d.data.DemoFeatureMatchingPointClouds()\n",
    "# dataset = o3d.data.DemoPoseGraphOptimization()\n",
    "# dataset = o3d.data.RedwoodIndoorLivingRoom1()\n",
    "# dataset = o3d.data.RedwoodIndoorLivingRoom2()\n",
    "# dataset = o3d.data.RedwoodIndoorOffice1()\n",
    "# dataset = o3d.data.RedwoodIndoorOffice2()\n",
    "pcd = o3d.io.read_point_cloud(dataset.path)\n",
    "o3d.visualization.draw_geometries([pcd])\n"
   ]
  },
  {
   "cell_type": "code",
   "execution_count": 18,
   "metadata": {},
   "outputs": [],
   "source": [
    "# camera_rays = o3d.t.geometry.RaycastingScene.create_rays_pinhole(\n",
    "#     fov_deg=90,\n",
    "#     center=[0, 0, 2],\n",
    "#     eye=[2, 3, 0],\n",
    "#     up=[0, 1, 0],\n",
    "#     width_px=640,\n",
    "#     height_px=480,\n",
    "# )\n",
    "# camera_rays"
   ]
  },
  {
   "cell_type": "code",
   "execution_count": 21,
   "metadata": {},
   "outputs": [],
   "source": [
    "def lidar_model(vfov = 30, hres=1, vres=1):\n",
    "    direction = []\n",
    "    for theta in np.arange(0, 2*np.pi, hres*np.pi/180.0):\n",
    "        for phi in np.arange(-(vfov/2.0)*np.pi/180.0 + np.pi/2, (vfov/2.0)*np.pi/180.0 + np.pi/2, vres*np.pi/180.0):\n",
    "            x = np.sin(phi) * np.cos(theta)\n",
    "            y = np.sin(phi) * np.sin(theta)\n",
    "            z = np.cos(phi)\n",
    "            direction.append([x, y, z])\n",
    "    return direction\n",
    "\n",
    "def lidar_scan(pos, model):\n",
    "    pts = [[pos[0], pos[1], pos[2], dir[0], dir[1], dir[2]] for dir in model] \n",
    "    return o3d.core.Tensor(pts, dtype=o3d.core.Dtype.Float32)\n",
    "\n",
    "vpl16_model = lidar_model(30, 1, 1)\n",
    "\n",
    "pcd = o3d.geometry.PointCloud()\n",
    "vpl16_model = lidar_model(30, 0.2, 1)\n",
    "pcd.points = o3d.utility.Vector3dVector(vpl16_model)\n",
    "o3d.visualization.draw_geometries([pcd])\n"
   ]
  },
  {
   "cell_type": "code",
   "execution_count": 22,
   "metadata": {},
   "outputs": [],
   "source": [
    "# Load mesh and convert to open3d.t.geometry.TriangleMesh\n",
    "cube = o3d.geometry.TriangleMesh.create_box().translate([5, 5, 0])\n",
    "cube.compute_vertex_normals()\n",
    "cube.paint_uniform_color([0.9, 0.2, 0.2])\n",
    "\n",
    "# Create a scene and add the triangle mesh\n",
    "scene = o3d.t.geometry.RaycastingScene()\n",
    "cube_id = scene.add_triangles(o3d.t.geometry.TriangleMesh.from_legacy(cube))\n",
    "vpl16_model = lidar_model(vfov=30, hres=0.2, vres=1)\n",
    "rays = lidar_scan([0.01, 0.01, 0.01], vpl16_model)\n",
    "ans = scene.cast_rays(rays)\n",
    "\n",
    "hit =  (ans['t_hit'] < 10) # ans['t_hit'].isfinite()\n",
    "points = rays[hit][:,:3] + rays[hit][:,3:] * ans['t_hit'][hit].reshape((-1,1))\n",
    "pcd = o3d.t.geometry.PointCloud(points)\n",
    "# Press Ctrl/Cmd-C in the visualization window to copy the current viewpoint\n",
    "o3d.visualization.draw_geometries([pcd.to_legacy()])\n"
   ]
  },
  {
   "cell_type": "code",
   "execution_count": 36,
   "metadata": {},
   "outputs": [],
   "source": [
    "pts = [\n",
    "    [1, 1, 1],\n",
    "    [2, 1, 1],\n",
    "    [2, 2, 1],\n",
    "    [1, 2, 1],\n",
    "    [1, 1, 2],\n",
    "    [2, 1, 2],\n",
    "    [2, 2, 2],\n",
    "    [1, 2, 2],\n",
    "]\n",
    "pcd = o3d.geometry.PointCloud()\n",
    "pcd.points = o3d.utility.Vector3dVector(pts)\n",
    "cvxhull, _ = pcd.compute_convex_hull(True)\n",
    "cvxhull.compute_vertex_normals()\n",
    "cvxhull.paint_uniform_color([0.9, 0.1, 0.1])\n",
    "o3d.visualization.draw_geometries([cvxhull])\n"
   ]
  },
  {
   "cell_type": "code",
   "execution_count": null,
   "metadata": {},
   "outputs": [],
   "source": [
    "pts = [\n",
    "    [1, 1, 1],\n",
    "    [2, 1, 1],\n",
    "    [2, 2, 1],\n",
    "    [1, 2, 1],\n",
    "    [1, 1, 1]\n",
    "]\n",
    "vtx, tri_dix = extrude_polygon_sides(pts, 1)\n",
    "print(vtx)\n",
    "print(tri_dix)\n",
    "mesh = o3d.geometry.TriangleMesh(o3d.utility.Vector3dVector(vtx), \n",
    "                                 o3d.utility.Vector3iVector(tri_dix))\n",
    "mesh.vertex_colors = o3d.utility.Vector3dVector(np.random.uniform(0, 1, size=(len(vtx), 3)))\n",
    "mesh.compute_vertex_normals()\n",
    "o3d.visualization.draw_geometries([mesh], mesh_show_back_face=True, point_show_normal=True, mesh_show_wireframe=True, window_name=\"Playground\")\n",
    "\n",
    "N = 5\n",
    "vertices = o3d.utility.Vector3dVector(\n",
    "    np.array([[0, 0, 0], [1, 0, 0], [1, 0, 1], [0, 0, 1], [0.5, 0.5, 0.5]]))\n",
    "triangles = o3d.utility.Vector3iVector(\n",
    "    np.array([[0, 1, 2], [0, 2, 3], [0, 4, 1], [1, 4, 2], [2, 4, 3],\n",
    "                [3, 4, 0]]))\n",
    "mesh_np = o3d.geometry.TriangleMesh(vertices, triangles)\n",
    "mesh_np.vertex_colors = o3d.utility.Vector3dVector(np.random.uniform(0, 1, size=(N, 3)))\n",
    "mesh_np.compute_vertex_normals()\n",
    "\n",
    "print(np.asarray(mesh_np.triangle_normals))\n",
    "print(\"Displaying mesh made using numpy ...\")\n",
    "o3d.visualization.draw_geometries([mesh_np])\n",
    "\n",
    "points = [[0, 0, 0], [10, 0, 0], [10, 100, 0], [20, 100, 0], [20, 0, 0], [30, 0, 0], [30, 100, 0], [40, 100, 0]]\n",
    "ls = create_open3d_waypoints(points, [1,0,0])\n",
    "o3d.visualization.draw_geometries([ls])\n",
    "\n",
    "# Surface\n",
    "pts = [\n",
    "    [10, 10, 1],\n",
    "    [20, 10, 1],\n",
    "    [20, 20, 1.00001],\n",
    "    [10, 20, 1]\n",
    "]\n",
    "\n",
    "# pts = [[0, 0, 0.001], \n",
    "#        [10, 0, 0], \n",
    "#        [10, 100, 0], \n",
    "#        [20, 100, 0], \n",
    "#        [20, 0, 0], \n",
    "#        [30, 0, 0], \n",
    "#        [30, 100, 0], \n",
    "#        [40, 100, 0]]\n",
    "\n",
    "pcd = o3d.geometry.PointCloud()\n",
    "pcd.points = o3d.utility.Vector3dVector(pts)\n",
    "pcd.estimate_normals()\n",
    "\n",
    "mesh = o3d.geometry.TriangleMesh.create_from_point_cloud_alpha_shape(pcd, 7.1)\n",
    "\n",
    "# radii = [0.005*2**n for n in range(0, 10)]\n",
    "# mesh = o3d.geometry.TriangleMesh.create_from_point_cloud_ball_pivoting(pcd, o3d.utility.DoubleVector(radii))\n",
    "\n",
    "mesh.compute_vertex_normals()\n",
    "mesh.paint_uniform_color([0.9, 0.1, 0.1])\n",
    "\n",
    "o3d.visualization.draw_geometries([mesh], mesh_show_back_face=True)\n",
    "mesh\n",
    "\n",
    "# cube = o3d.geometry.TriangleMesh.create_box().translate([10, 10, 10])\n",
    "# cube.compute_vertex_normals()\n",
    "# cube.paint_uniform_color([0.9, 0.1, 0.1])\n",
    "# scene = o3d.t.geometry.RaycastingScene()\n",
    "# cube_id = scene.add_triangles(o3d.t.geometry.TriangleMesh.from_legacy(cube))\n",
    "\n",
    "# rays = o3d.core.Tensor([\n",
    "#     [0.01, 0.01, 0.01, 1, 1, 1],\n",
    "#     [0.01, 0.01, 0.01, 1.5, 1.5, 1]\n",
    "# ],\n",
    "#     dtype=o3d.core.Dtype.Float32)\n",
    "\n",
    "# # ans = scene.cast_rays(rays)\n",
    "# hit = ans['t_hit'].isfinite()\n",
    "# points = rays[hit][:, :3] + rays[hit][:, 3:]*ans['t_hit'][hit].reshape((-1, 1))\n",
    "# points  # hit #ans"
   ]
  },
  {
   "cell_type": "code",
   "execution_count": null,
   "metadata": {},
   "outputs": [],
   "source": [
    "roi = (49.81061769757704, 9.988233595428222)\n",
    "roi = (51.8903, 10.41933)\n",
    "gdf = ox.geometries_from_point(roi, dist=200, tags={'building': True})\n",
    "gdf = ox.projection.project_gdf(gdf, to_crs=\"EPSG:3857\") # 4326, 3857\n",
    "gdf.plot(color='red', alpha=1, cmap='viridis', figsize=(16,10))\n",
    "# plt.gca().axis('off')"
   ]
  },
  {
   "cell_type": "code",
   "execution_count": 35,
   "metadata": {},
   "outputs": [
    {
     "name": "stderr",
     "output_type": "stream",
     "text": [
      "\n",
      "Qhull messages at ~Qhull()\n",
      "QH7089 qhull precision warning: The initial hull is narrow.  Is the input lower\n",
      "dimensional (e.g., a square in 3-d instead of a cube)?  Cosine of the minimum\n",
      "angle is 1.0000000000000000.  If so, Qhull may produce a wide facet.\n",
      "Options 'Qs' (search all points), 'Qbb' (scale last coordinate), or\n",
      "'QbB' (scale to unit box) may remove this warning.\n",
      "See 'Limitations' in qh-impre.htm.  Use 'Pp' to skip this warning.\n"
     ]
    }
   ],
   "source": [
    "pts = []\n",
    "pt0 = None\n",
    "for g in gdf.geometry:\n",
    "    for pt in g.exterior.coords:\n",
    "        if pt0 is None:\n",
    "            pt0 = pt\n",
    "            pts.append([0, 0, 0])\n",
    "        else:\n",
    "            pts.append([pt[0]-pt0[0], pt[1]-pt0[1], 0])\n",
    "\n",
    "pcd = o3d.geometry.PointCloud()\n",
    "pcd.points = o3d.utility.Vector3dVector(pts)\n",
    "# pcd = o3d.geometry.TetraMesh.create_from_point_cloud(pcd)\n",
    "# o3d.geometry.compute_point_cloud_convex_hull(pcd)\n",
    "cvxhull, _ = pcd.compute_convex_hull(True) # True allows the algorithm to add random noise to the points to work around degenerate inputs.\n",
    "cvxhull.compute_vertex_normals()\n",
    "cvxhull.paint_uniform_color([0.9, 0.1, 0.1])\n",
    "# o3d.visualization.draw_geometries([pcd])\n",
    "o3d.visualization.draw_geometries([cvxhull])\n",
    "# pcd.compute_convex_hull?\n",
    "\n",
    "# mesh = o3d.geometry.TriangleMesh.create_from_point_cloud_alpha_shape(pcd, 0.03)\n",
    "# mesh.compute_vertex_normals()\n",
    "# o3d.visualization.draw_geometries([mesh], mesh_show_back_face=True)\n",
    "\n",
    "# o3d.geometry.TriangleMesh.create_from_point_cloud_poisson(pcd)\n",
    "# o3d.geometry.TriangleMesh.create_from_point_cloud_alpha_shape(pts)"
   ]
  },
  {
   "cell_type": "code",
   "execution_count": 28,
   "metadata": {},
   "outputs": [
    {
     "name": "stdout",
     "output_type": "stream",
     "text": [
      "37\n"
     ]
    }
   ],
   "source": [
    "# Create 3D buildings\n",
    "\n",
    "meshes = []\n",
    "\n",
    "for g in gdf.geometry:\n",
    "    try:\n",
    "        cvxhull = None\n",
    "        pts = []\n",
    "        for pt in g.exterior.coords:\n",
    "            pts.append([pt[0], pt[1], 0])\n",
    "            pts.append([pt[0], pt[1], 10])\n",
    "        \n",
    "        pcd = o3d.geometry.PointCloud()\n",
    "        pcd.points = o3d.utility.Vector3dVector(pts)\n",
    "        pcd.estimate_normals()\n",
    "        cvxhull, _ = pcd.compute_convex_hull(True)\n",
    "        # cvxhull = pcd.TetraMesh.PointCloud(pcd)\n",
    "        # cvxhull = o3d.geometry.TriangleMesh.create_from_point_cloud_ball_pivoting(pcd, o3d.utility.DoubleVector([1, 2, 4, 8, 16, 32]))\n",
    "        # cvxhull, _ = o3d.geometry.TriangleMesh.create_from_point_cloud_poisson(pcd)\n",
    "        # cvxhull.compute_vertex_normals()\n",
    "        cvxhull.paint_uniform_color([np.random.random_sample(), np.random.random_sample(), np.random.random_sample()])        \n",
    "        meshes.append(cvxhull)\n",
    "        \n",
    "    except Exception as ex:\n",
    "        print(f\"Exception: {ex}\")       \n",
    "        pass\n",
    "\n",
    "o3d.visualization.draw_geometries(meshes)\n",
    "print(len(meshes))"
   ]
  },
  {
   "cell_type": "code",
   "execution_count": 29,
   "metadata": {},
   "outputs": [
    {
     "name": "stderr",
     "output_type": "stream",
     "text": [
      "/home/ahmad/anaconda3/envs/debug/lib/python3.9/site-packages/IPython/core/interactiveshell.py:3433: DeprecationWarning: Delaunay attribute 'vertices' is deprecated in favour of 'simplices' and will be removed in Scipy 1.11.0.\n",
      "  exec(code_obj, self.user_global_ns, self.user_ns)\n"
     ]
    },
    {
     "data": {
      "text/plain": [
       "array([[6, 3, 4, 0],\n",
       "       [6, 2, 1, 0],\n",
       "       [6, 4, 1, 0],\n",
       "       [6, 3, 2, 0],\n",
       "       [6, 5, 4, 1],\n",
       "       [6, 7, 3, 4]], dtype=int32)"
      ]
     },
     "execution_count": 29,
     "metadata": {},
     "output_type": "execute_result"
    }
   ],
   "source": [
    "from scipy.spatial import Delaunay\n",
    "import open3d as o3d\n",
    "import numpy as np\n",
    "\n",
    "pts = [\n",
    "    [1, 1, 1],\n",
    "    [2, 1, 1],\n",
    "    [2, 2, 1],\n",
    "    [1, 2, 1],\n",
    "    [1, 1, 2],\n",
    "    [2, 1, 2],\n",
    "    [2, 2, 2],\n",
    "    [1, 2, 2],\n",
    "]\n",
    "\n",
    "tri = Delaunay(pts)\n",
    "vtx = []\n",
    "for face in tri.simplices:\n",
    "    vtx.append([face[0], face[1], face[2]])\n",
    "    vtx.append([face[1], face[2], face[3]])\n",
    "    \n",
    "mesh = o3d.geometry.TriangleMesh(o3d.utility.Vector3dVector(pts), \n",
    "                                 o3d.utility.Vector3iVector(vtx))\n",
    "mesh.vertex_colors = o3d.utility.Vector3dVector(np.random.uniform(0, 1, size=(len(pts), 3)))\n",
    "mesh.compute_vertex_normals()\n",
    "o3d.visualization.draw_geometries([mesh], mesh_show_back_face=True, point_show_normal=True, mesh_show_wireframe=True, window_name=\"Playground\")\n",
    "tri.vertices"
   ]
  },
  {
   "cell_type": "code",
   "execution_count": 30,
   "metadata": {},
   "outputs": [],
   "source": [
    "def extrude_polygon_sides(pg, height=1):\n",
    "    vtx = pg.copy()  # copy original ist\n",
    "    tri_idx = []\n",
    "    N = len(pg)\n",
    "    for idx in range(0, N-1):\n",
    "        pt = pg[idx]\n",
    "        vtx.append([pt[0], pt[1], pt[2]+height])  # Add extruded point\n",
    "        tri_idx.append([idx, idx+1, N+idx])\n",
    "        tri_idx.append([idx+1, N+idx+1, N+idx])\n",
    "    # Add last point\n",
    "    pt = pg[-1]\n",
    "    vtx.append([pt[0], pt[1], pt[2]+height])  # Add extruded point\n",
    "    return vtx, tri_idx\n",
    "\n",
    "\n",
    "def get_osm_buildings_with_dem(roi=(51.8903, 10.41933), zone_num=32, zone_letter='U', upscale_factor = 30):\n",
    "\n",
    "    # Get OSM\n",
    "    gdf = ox.geometries_from_point(roi, dist=200, tags={'building': True})\n",
    "    print('Bbox: ', gdf.total_bounds)\n",
    "\n",
    "    # Get DEM\n",
    "    offset = 0.0005\n",
    "    bbx = gdf.total_bounds\n",
    "    bbx = (bbx[0]-offset, bbx[1]-offset, bbx[2]+offset, bbx[3]+offset)\n",
    "\n",
    "    fname = f\"{os.getcwd()}/ROI-DEM.tif\"\n",
    "    dem.clip(bounds=(bbx[0], bbx[1], bbx[2], bbx[3]),\n",
    "             output=fname, product='SRTM1')\n",
    "    dem.clean()  # clean up stale temporary files and fix the cache in the event of a server error\n",
    "    dem_data = rio.open(fname)\n",
    "\n",
    "    # Resample DEM\n",
    "    dem_array = dem_data.read(1,\n",
    "                              out_shape=(int(dem_data.height * upscale_factor),\n",
    "                                         int(dem_data.width * upscale_factor)),\n",
    "                              out_dtype=np.double,\n",
    "                              resampling=Resampling.bilinear\n",
    "                              )\n",
    "\n",
    "    # DEM image transform\n",
    "    dem_transform = dem_data.transform * dem_data.transform.scale(\n",
    "        (dem_data.width / dem_array.shape[-1]),\n",
    "        (dem_data.height / dem_array.shape[-2])\n",
    "    )\n",
    "\n",
    "    # Get elevation at pt(lng, lat) and convert to utm\n",
    "    start_lng_lat = gdf.loc[gdf.index[0]].geometry.exterior.coords[0]\n",
    "    start_alt = dem_array[rio.transform.rowcol(\n",
    "        dem_transform, start_lng_lat[0], start_lng_lat[1])]\n",
    "    start_east, start_north, _, _ = utm.from_latlon(\n",
    "        start_lng_lat[1], start_lng_lat[0], zone_num, zone_letter)  # Note lat, lng order\n",
    "    start_pt = [start_east, start_north, start_alt]\n",
    "    print(start_pt)\n",
    "    geoms = []\n",
    "    ground = []\n",
    "    for geom in gdf.geometry:\n",
    "        pts = []\n",
    "        for pt in geom.exterior.coords:\n",
    "            lng = pt[0]\n",
    "            lat = pt[1]\n",
    "            alt = dem_array[rio.transform.rowcol(dem_transform, lng, lat)]\n",
    "            east, north, _, _ = utm.from_latlon(\n",
    "                lat, lng, zone_num, zone_letter)\n",
    "            # abs_pos = [east, north, alt]\n",
    "            rel_pos = [east-start_pt[0], north-start_pt[1], alt-start_pt[2]]\n",
    "            pts.append(rel_pos)\n",
    "            ground.append(rel_pos)\n",
    "\n",
    "        geoms.append(pts)\n",
    "\n",
    "\n",
    "    return geoms, ground\n",
    "\n",
    "\n",
    "def show_dem(fname=f\"{os.getcwd()}/ROI-DEM.tif\", upscale_factor=30):\n",
    "    with rio.open(fname) as dem_data:\n",
    "        # dem_array = dem_data.read(1).astype('float64')\n",
    "        dem_array = dem_data.read(1,\n",
    "                                  out_shape=(int(dem_data.height * upscale_factor),\n",
    "                                             int(dem_data.width * upscale_factor)),\n",
    "                                  out_dtype=np.double,\n",
    "                                  resampling=Resampling.bilinear\n",
    "                                  )\n",
    "\n",
    "        dem_richdem = rd.rdarray(dem_array, no_data=-9999)\n",
    "        fig = rd.rdShow(dem_richdem, axes=False,\n",
    "                        cmap='viridis', figsize=(12, 10))\n",
    "    return fig\n",
    "\n",
    "\n",
    "def dem_coordinates(fname=f\"{os.getcwd()}/ROI-DEM.tif\", upscale_factor=30):\n",
    "    with rio.open(fname) as dem_data:\n",
    "        # band1 = dem_data.read(1).astype('float64')\n",
    "        band1 = dem_data.read(1,\n",
    "                              out_shape=(int(dem_data.height * upscale_factor),\n",
    "                                         int(dem_data.width * upscale_factor)),\n",
    "                              out_dtype=np.double,\n",
    "                              resampling=Resampling.bilinear\n",
    "                              )\n",
    "        print('Band1 has shape', band1.shape)\n",
    "        height = band1.shape[0]\n",
    "        width = band1.shape[1]\n",
    "        cols, rows = np.meshgrid(np.arange(width), np.arange(height))\n",
    "        xs, ys = rio.transform.xy(dem_data.transform, rows, cols)\n",
    "        lngs = np.array(xs)\n",
    "        lats = np.array(ys)\n",
    "        pts = []\n",
    "        for y, lat in enumerate(lats[0, 50:-50]):\n",
    "            for x, lng in enumerate(lngs[0, 50:-50]):\n",
    "                pts.append([lng, lat, band1[(x, y)]])\n",
    "    return lats, lngs, pts\n",
    "\n",
    "\n",
    "def create_open3d_waypoints(points: list(), color=[1,0,0]):\n",
    "    \"\"\"Create Open3D Lineset from given list of points\n",
    "\n",
    "    Args:\n",
    "        points (list(list([x,y,z]))): List of lists containing points Cartesian coordinates [x,y,z]\n",
    "        color (list, optional): Color [R, G, B]. Defaults to [1,0,0].\n",
    "\n",
    "    Returns:\n",
    "        LineSet: Open3D LineSet object\n",
    "    \"\"\"\n",
    "    lines = [[idx-1, idx] for idx in range(1,len(points))] # Create consective point as line\n",
    "    colors = [color for i in range(len(lines))]\n",
    "    line_set = o3d.geometry.LineSet()\n",
    "    line_set.points = o3d.utility.Vector3dVector(points)\n",
    "    line_set.lines = o3d.utility.Vector2iVector(lines)\n",
    "    line_set.colors = o3d.utility.Vector3dVector(colors)\n",
    "    # o3d.visualization.draw_geometries([line_set])\n",
    "    # mesh = line_set.extrude_linear([0,1,0])\n",
    "    # o3d.visualization.draw_geometries([mesh])\n",
    "    return line_set\n"
   ]
  },
  {
   "cell_type": "code",
   "execution_count": 31,
   "metadata": {},
   "outputs": [
    {
     "name": "stderr",
     "output_type": "stream",
     "text": [
      "/home/ahmad/anaconda3/envs/debug/lib/python3.9/site-packages/osmnx/utils_geo.py:280: ShapelyDeprecationWarning: Iteration over multi-part geometries is deprecated and will be removed in Shapely 2.0. Use the `geoms` property to access the constituent parts of a multi-part geometry.\n",
      "  for polygon in geometry:\n",
      "/home/ahmad/anaconda3/envs/debug/lib/python3.9/site-packages/osmnx/utils_geo.py:374: ShapelyDeprecationWarning: Iteration over multi-part geometries is deprecated and will be removed in Shapely 2.0. Use the `geoms` property to access the constituent parts of a multi-part geometry.\n",
      "  for poly in multipoly:\n",
      "ERROR 1: PROJ: proj_create_from_name: Open of /home/ahmad/anaconda3/envs/debug/share/proj failed\n",
      "Warning 1: PROJ: proj_create_from_database: Open of /home/ahmad/anaconda3/envs/debug/share/proj failed\n"
     ]
    },
    {
     "name": "stdout",
     "output_type": "stream",
     "text": [
      "Bbox:  [10.416618  51.8886251 10.4212208 51.8923425]\n",
      "make: Entering directory '/home/ahmad/.cache/elevation/SRTM1'\n",
      "make: Nothing to be done for 'download'.\n",
      "make: Leaving directory '/home/ahmad/.cache/elevation/SRTM1'\n",
      "make: Entering directory '/home/ahmad/.cache/elevation/SRTM1'\n",
      "make: Nothing to be done for 'all'.\n",
      "make: Leaving directory '/home/ahmad/.cache/elevation/SRTM1'\n",
      "make: Entering directory '/home/ahmad/.cache/elevation/SRTM1'\n",
      "cp SRTM1.vrt SRTM1.681afbf36ad04f21ab6120956579ddb6.vrt\n",
      "make: Leaving directory '/home/ahmad/.cache/elevation/SRTM1'\n",
      "make: Entering directory '/home/ahmad/.cache/elevation/SRTM1'\n",
      "gdal_translate -q -co TILED=YES -co COMPRESS=DEFLATE -co ZLEVEL=9 -co PREDICTOR=2 -projwin 10.416117999999999 51.8928425 10.421720800000001 51.888125099999996 SRTM1.681afbf36ad04f21ab6120956579ddb6.vrt /home/ahmad/personal_ws/src/ROSExamples/script/ROI-DEM.tif\n",
      "rm -f SRTM1.681afbf36ad04f21ab6120956579ddb6.vrt\n",
      "make: Leaving directory '/home/ahmad/.cache/elevation/SRTM1'\n",
      "make: Entering directory '/home/ahmad/.cache/elevation/SRTM1'\n",
      "find cache -size 0 -name \"*.tif\" -delete\n",
      "rm -f SRTM1.*.vrt\n",
      "rm -f -r spool/*\n",
      "make: Leaving directory '/home/ahmad/.cache/elevation/SRTM1'\n",
      "[597684.0244065631, 5749817.281503754, 332.0]\n"
     ]
    }
   ],
   "source": [
    "buildings, ground = get_osm_buildings_with_dem(roi=(51.8903, 10.41933)); # Rammelsberg\n",
    "# buildings, ground = get_osm_buildings_with_dem(roi=(49.7809210875775, 9.975194325565797)); # Robotics Hall\n",
    "# buildings, ground = get_osm_buildings_with_dem(roi=(49.801376484175385, 9.934727615561737)); # Wurzburg Hbf\n",
    "# buildings, ground = get_osm_buildings_with_dem(roi=(49.81051384510241, 9.988340883784735)); # Lengfeld\n",
    "# buildings\n",
    "\n",
    "meshes = []\n",
    "for building in buildings:\n",
    "    vtx, tri_dix = extrude_polygon_sides(building, 15)\n",
    "    mesh = o3d.geometry.TriangleMesh(o3d.utility.Vector3dVector(vtx), o3d.utility.Vector3iVector(tri_dix))\n",
    "    # mesh.vertex_colors = o3d.utility.Vector3dVector(np.random.uniform(0, 1, size=(len(vtx), 3)))\n",
    "    mesh.compute_vertex_normals()\n",
    "    mesh.paint_uniform_color([np.random.random_sample(), np.random.random_sample(), np.random.random_sample()])        \n",
    "    meshes.append(mesh)\n",
    "        \n",
    "ground_pcd = o3d.geometry.PointCloud(o3d.utility.Vector3dVector(ground))\n",
    "ground_pcd.estimate_normals()\n",
    "ground_pcd.orient_normals_to_align_with_direction()\n",
    "ground_mesh, _ = o3d.geometry.TriangleMesh.create_from_point_cloud_poisson(ground_pcd, depth=6)\n",
    "# ground_mesh = o3d.geometry.TriangleMesh.create_from_point_cloud_ball_pivoting(ground_pcd, o3d.utility.DoubleVector([0.5, 1, 2, 4, 8, 16, 32, 64, 128, 256, 512, 1024, 2048]))\n",
    "ground_mesh.paint_uniform_color([np.random.random_sample(), np.random.random_sample(), np.random.random_sample()])        \n",
    "meshes.append(ground_mesh)\n",
    "o3d.visualization.draw_geometries(meshes, mesh_show_back_face=True, point_show_normal=True, mesh_show_wireframe=False, window_name=f\"Playground: {len(meshes)}\")"
   ]
  },
  {
   "cell_type": "code",
   "execution_count": 49,
   "metadata": {},
   "outputs": [
    {
     "name": "stdout",
     "output_type": "stream",
     "text": [
      "[1159572.61154805 6780012.44188353 1160084.99290027 6780682.95629068]\n",
      "[1159573.61154805 6780013.44188353 1160085.99290027 6780683.95629068]\n"
     ]
    }
   ],
   "source": [
    "# Get the overall bounding box\n",
    "print(gdf.bounds.agg({'minx': 'min', 'miny': 'min', 'maxx': 'max', 'maxy': 'max'}).to_numpy())\n",
    "print(gdf.total_bounds)"
   ]
  },
  {
   "cell_type": "code",
   "execution_count": 8,
   "metadata": {},
   "outputs": [],
   "source": []
  }
 ],
 "metadata": {
  "kernelspec": {
   "display_name": "Python 3.9.15 ('debug')",
   "language": "python",
   "name": "python3"
  },
  "language_info": {
   "codemirror_mode": {
    "name": "ipython",
    "version": 3
   },
   "file_extension": ".py",
   "mimetype": "text/x-python",
   "name": "python",
   "nbconvert_exporter": "python",
   "pygments_lexer": "ipython3",
   "version": "3.9.15"
  },
  "orig_nbformat": 4,
  "vscode": {
   "interpreter": {
    "hash": "792ff22b7925acf9bd1eb36c4f6e0e6880bfc2322e68916d919bc294fea4344e"
   }
  }
 },
 "nbformat": 4,
 "nbformat_minor": 2
}
